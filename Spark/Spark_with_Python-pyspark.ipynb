{
 "cells": [
  {
   "cell_type": "markdown",
   "metadata": {},
   "source": [
    "# Spark with Python: pyspark\n",
    "\n",
    "PySpark is a high-level API that allows using the Spark framework with Python language. [Spark documentation](https://spark.apache.org/docs/latest/api/python/index.html#)"
   ]
  },
  {
   "cell_type": "markdown",
   "metadata": {},
   "source": [
    "The first cell loads the libraries we will need along this notebook."
   ]
  },
  {
   "cell_type": "code",
   "execution_count": 1,
   "metadata": {},
   "outputs": [],
   "source": [
    "import findspark\n",
    "import pandas as pd\n",
    "import pyspark\n",
    "from datetime import datetime\n",
    "from pyspark.sql import SparkSession\n",
    "from pyspark.sql import functions as F\n",
    "from pyspark.sql.functions import col, desc, isnan, udf\n",
    "from pyspark.sql.types import DateType, IntegerType"
   ]
  },
  {
   "cell_type": "markdown",
   "metadata": {},
   "source": [
    "First, we have to point out where in our machine Spark is installed: we do this with `findspark.init()`.\n",
    "\n",
    "Then, we instanciate an object to initialize a Spark session, using a builder where we define a name for our application: `.appName()`. \n",
    "\n",
    "It is possible to create a new a session or use one that already exists, although it will update the configuration: "
   ]
  },
  {
   "cell_type": "code",
   "execution_count": 2,
   "metadata": {},
   "outputs": [],
   "source": [
    "findspark.init(\"/usr/local/spark\")\n",
    "\n",
    "spark = SparkSession \\\n",
    "            .builder \\\n",
    "            .appName(\"Learning Spark with Python\") \\\n",
    "            .getOrCreate() # se já existe uma Session, ela será atualizada com as configurações acima. Caso contrário, irá criar uma nova sessão."
   ]
  },
  {
   "cell_type": "markdown",
   "metadata": {},
   "source": [
    "To visualize the parameters of our session:"
   ]
  },
  {
   "cell_type": "code",
   "execution_count": 3,
   "metadata": {},
   "outputs": [
    {
     "data": {
      "text/plain": [
       "[('spark.driver.port', '36853'),\n",
       " ('spark.driver.host', '192.168.0.10'),\n",
       " ('spark.app.id', 'local-1587753245018'),\n",
       " ('spark.rdd.compress', 'True'),\n",
       " ('spark.serializer.objectStreamReset', '100'),\n",
       " ('spark.master', 'local[*]'),\n",
       " ('spark.executor.id', 'driver'),\n",
       " ('spark.submit.deployMode', 'client'),\n",
       " ('spark.app.name', 'Learning Spark with Python'),\n",
       " ('spark.ui.showConsoleProgress', 'true')]"
      ]
     },
     "execution_count": 3,
     "metadata": {},
     "output_type": "execute_result"
    }
   ],
   "source": [
    "spark.sparkContext.getConf().getAll()"
   ]
  },
  {
   "cell_type": "markdown",
   "metadata": {},
   "source": [
    "Let's use a dataset with csv format ([available here](https://www.kaggle.com/joniarroba/noshowappointments))\n",
    "\n",
    "Specify the parameter to indicate where the dataset is, then read it and save as a dataframe:"
   ]
  },
  {
   "cell_type": "code",
   "execution_count": 4,
   "metadata": {},
   "outputs": [],
   "source": [
    "path = 'data/noshowappointments-kagglev2-may-2016.csv'"
   ]
  },
  {
   "cell_type": "code",
   "execution_count": 5,
   "metadata": {},
   "outputs": [],
   "source": [
    "noshow_dataset = spark.read.csv(path, header = True)"
   ]
  },
  {
   "cell_type": "markdown",
   "metadata": {},
   "source": [
    "The method `printSchema()` returns column names and data types:"
   ]
  },
  {
   "cell_type": "code",
   "execution_count": 6,
   "metadata": {},
   "outputs": [
    {
     "name": "stdout",
     "output_type": "stream",
     "text": [
      "root\n",
      " |-- PatientId: string (nullable = true)\n",
      " |-- AppointmentID: string (nullable = true)\n",
      " |-- Gender: string (nullable = true)\n",
      " |-- ScheduledDay: string (nullable = true)\n",
      " |-- AppointmentDay: string (nullable = true)\n",
      " |-- Age: string (nullable = true)\n",
      " |-- Neighbourhood: string (nullable = true)\n",
      " |-- Scholarship: string (nullable = true)\n",
      " |-- Hipertension: string (nullable = true)\n",
      " |-- Diabetes: string (nullable = true)\n",
      " |-- Alcoholism: string (nullable = true)\n",
      " |-- Handcap: string (nullable = true)\n",
      " |-- SMS_received: string (nullable = true)\n",
      " |-- No-show: string (nullable = true)\n",
      "\n"
     ]
    }
   ],
   "source": [
    "noshow_dataset.printSchema()"
   ]
  },
  {
   "cell_type": "markdown",
   "metadata": {},
   "source": [
    "To visualizes a sample of the dataset, you can use `show()` or `take()` and define how many lines, you want to see:"
   ]
  },
  {
   "cell_type": "code",
   "execution_count": 7,
   "metadata": {},
   "outputs": [
    {
     "name": "stdout",
     "output_type": "stream",
     "text": [
      "+---------------+-------------+------+--------------------+--------------------+---+---------------+-----------+------------+--------+----------+-------+------------+-------+\n",
      "|      PatientId|AppointmentID|Gender|        ScheduledDay|      AppointmentDay|Age|  Neighbourhood|Scholarship|Hipertension|Diabetes|Alcoholism|Handcap|SMS_received|No-show|\n",
      "+---------------+-------------+------+--------------------+--------------------+---+---------------+-----------+------------+--------+----------+-------+------------+-------+\n",
      "| 29872499824296|      5642903|     F|2016-04-29T18:38:08Z|2016-04-29T00:00:00Z| 62|JARDIM DA PENHA|          0|           1|       0|         0|      0|           0|     No|\n",
      "|558997776694438|      5642503|     M|2016-04-29T16:08:27Z|2016-04-29T00:00:00Z| 56|JARDIM DA PENHA|          0|           0|       0|         0|      0|           0|     No|\n",
      "+---------------+-------------+------+--------------------+--------------------+---+---------------+-----------+------------+--------+----------+-------+------------+-------+\n",
      "only showing top 2 rows\n",
      "\n"
     ]
    }
   ],
   "source": [
    "noshow_dataset.show(2)"
   ]
  },
  {
   "cell_type": "code",
   "execution_count": 8,
   "metadata": {},
   "outputs": [
    {
     "data": {
      "text/plain": [
       "[Row(PatientId='29872499824296', AppointmentID='5642903', Gender='F', ScheduledDay='2016-04-29T18:38:08Z', AppointmentDay='2016-04-29T00:00:00Z', Age='62', Neighbourhood='JARDIM DA PENHA', Scholarship='0', Hipertension='1', Diabetes='0', Alcoholism='0', Handcap='0', SMS_received='0', No-show='No'),\n",
       " Row(PatientId='558997776694438', AppointmentID='5642503', Gender='M', ScheduledDay='2016-04-29T16:08:27Z', AppointmentDay='2016-04-29T00:00:00Z', Age='56', Neighbourhood='JARDIM DA PENHA', Scholarship='0', Hipertension='0', Diabetes='0', Alcoholism='0', Handcap='0', SMS_received='0', No-show='No')]"
      ]
     },
     "execution_count": 8,
     "metadata": {},
     "output_type": "execute_result"
    }
   ],
   "source": [
    "noshow_dataset.take(2)"
   ]
  },
  {
   "cell_type": "markdown",
   "metadata": {},
   "source": [
    "Also, it is possible to use `toPandas()` to show data as a Pandas dataframe:"
   ]
  },
  {
   "cell_type": "code",
   "execution_count": 9,
   "metadata": {},
   "outputs": [
    {
     "data": {
      "text/html": [
       "<div>\n",
       "<style scoped>\n",
       "    .dataframe tbody tr th:only-of-type {\n",
       "        vertical-align: middle;\n",
       "    }\n",
       "\n",
       "    .dataframe tbody tr th {\n",
       "        vertical-align: top;\n",
       "    }\n",
       "\n",
       "    .dataframe thead th {\n",
       "        text-align: right;\n",
       "    }\n",
       "</style>\n",
       "<table border=\"1\" class=\"dataframe\">\n",
       "  <thead>\n",
       "    <tr style=\"text-align: right;\">\n",
       "      <th></th>\n",
       "      <th>PatientId</th>\n",
       "      <th>AppointmentID</th>\n",
       "      <th>Gender</th>\n",
       "      <th>ScheduledDay</th>\n",
       "      <th>AppointmentDay</th>\n",
       "      <th>Age</th>\n",
       "      <th>Neighbourhood</th>\n",
       "      <th>Scholarship</th>\n",
       "      <th>Hipertension</th>\n",
       "      <th>Diabetes</th>\n",
       "      <th>Alcoholism</th>\n",
       "      <th>Handcap</th>\n",
       "      <th>SMS_received</th>\n",
       "      <th>No-show</th>\n",
       "    </tr>\n",
       "  </thead>\n",
       "  <tbody>\n",
       "    <tr>\n",
       "      <th>0</th>\n",
       "      <td>29872499824296</td>\n",
       "      <td>5642903</td>\n",
       "      <td>F</td>\n",
       "      <td>2016-04-29T18:38:08Z</td>\n",
       "      <td>2016-04-29T00:00:00Z</td>\n",
       "      <td>62</td>\n",
       "      <td>JARDIM DA PENHA</td>\n",
       "      <td>0</td>\n",
       "      <td>1</td>\n",
       "      <td>0</td>\n",
       "      <td>0</td>\n",
       "      <td>0</td>\n",
       "      <td>0</td>\n",
       "      <td>No</td>\n",
       "    </tr>\n",
       "    <tr>\n",
       "      <th>1</th>\n",
       "      <td>558997776694438</td>\n",
       "      <td>5642503</td>\n",
       "      <td>M</td>\n",
       "      <td>2016-04-29T16:08:27Z</td>\n",
       "      <td>2016-04-29T00:00:00Z</td>\n",
       "      <td>56</td>\n",
       "      <td>JARDIM DA PENHA</td>\n",
       "      <td>0</td>\n",
       "      <td>0</td>\n",
       "      <td>0</td>\n",
       "      <td>0</td>\n",
       "      <td>0</td>\n",
       "      <td>0</td>\n",
       "      <td>No</td>\n",
       "    </tr>\n",
       "  </tbody>\n",
       "</table>\n",
       "</div>"
      ],
      "text/plain": [
       "         PatientId AppointmentID Gender          ScheduledDay  \\\n",
       "0   29872499824296       5642903      F  2016-04-29T18:38:08Z   \n",
       "1  558997776694438       5642503      M  2016-04-29T16:08:27Z   \n",
       "\n",
       "         AppointmentDay Age    Neighbourhood Scholarship Hipertension  \\\n",
       "0  2016-04-29T00:00:00Z  62  JARDIM DA PENHA           0            1   \n",
       "1  2016-04-29T00:00:00Z  56  JARDIM DA PENHA           0            0   \n",
       "\n",
       "  Diabetes Alcoholism Handcap SMS_received No-show  \n",
       "0        0          0       0            0      No  \n",
       "1        0          0       0            0      No  "
      ]
     },
     "execution_count": 9,
     "metadata": {},
     "output_type": "execute_result"
    }
   ],
   "source": [
    "noshow_dataset.limit(2).toPandas()"
   ]
  },
  {
   "cell_type": "markdown",
   "metadata": {},
   "source": [
    "# Data Wrangling\n",
    "\n",
    "#### Before any data analysis, we need to let our data clean and organized. This involves, for example, to verify the presence of null values or check if the values are spelled correctly. Here, in this dataset we need to deal with the following:\n",
    "1. check the presence of missing or null values.\n",
    "2. change the data type of columns ScheduledDay and AppointmentDay (as is: string, to: timestamp).\n",
    "3. standardize the names of the neighborhood to lowercase.\n",
    "4. rename the columns No-Show and SMS_received to NoShow and SMSReceived.\n",
    "5. for numeric variables check values with an exploratory data analysis.\n"
   ]
  },
  {
   "cell_type": "markdown",
   "metadata": {},
   "source": [
    "To see how many rows there is:"
   ]
  },
  {
   "cell_type": "code",
   "execution_count": 10,
   "metadata": {},
   "outputs": [
    {
     "data": {
      "text/plain": [
       "110527"
      ]
     },
     "execution_count": 10,
     "metadata": {},
     "output_type": "execute_result"
    }
   ],
   "source": [
    "noshow_dataset.count()"
   ]
  },
  {
   "cell_type": "markdown",
   "metadata": {},
   "source": [
    "To drop the duplicated rows:"
   ]
  },
  {
   "cell_type": "code",
   "execution_count": 11,
   "metadata": {},
   "outputs": [],
   "source": [
    "noshow_dataset = noshow_dataset.dropDuplicates()"
   ]
  },
  {
   "cell_type": "markdown",
   "metadata": {},
   "source": [
    "### 1. Check the presence of missing or null values"
   ]
  },
  {
   "cell_type": "code",
   "execution_count": 12,
   "metadata": {},
   "outputs": [],
   "source": [
    "def count_missing_values(dataframeName):\n",
    "    column_names = dataframeName.columns\n",
    "    \n",
    "    my_columns = []\n",
    "    missing_values_count = []\n",
    "    \n",
    "    for column_name in column_names:\n",
    "        my_columns.append(column_name)\n",
    "        missing_values_count.append(dataframeName.filter((dataframeName[column_name] == \"\") | dataframeName[column_name].isNull() | isnan(dataframeName[column_name])).count())\n",
    "    \n",
    "    df_result = pd.DataFrame({'column_name': my_columns, 'missing_values_count': missing_values_count})    \n",
    "    \n",
    "    return df_result"
   ]
  },
  {
   "cell_type": "code",
   "execution_count": 13,
   "metadata": {},
   "outputs": [
    {
     "data": {
      "text/html": [
       "<div>\n",
       "<style scoped>\n",
       "    .dataframe tbody tr th:only-of-type {\n",
       "        vertical-align: middle;\n",
       "    }\n",
       "\n",
       "    .dataframe tbody tr th {\n",
       "        vertical-align: top;\n",
       "    }\n",
       "\n",
       "    .dataframe thead th {\n",
       "        text-align: right;\n",
       "    }\n",
       "</style>\n",
       "<table border=\"1\" class=\"dataframe\">\n",
       "  <thead>\n",
       "    <tr style=\"text-align: right;\">\n",
       "      <th></th>\n",
       "      <th>column_name</th>\n",
       "      <th>missing_values_count</th>\n",
       "    </tr>\n",
       "  </thead>\n",
       "  <tbody>\n",
       "    <tr>\n",
       "      <th>0</th>\n",
       "      <td>PatientId</td>\n",
       "      <td>0</td>\n",
       "    </tr>\n",
       "    <tr>\n",
       "      <th>1</th>\n",
       "      <td>AppointmentID</td>\n",
       "      <td>0</td>\n",
       "    </tr>\n",
       "    <tr>\n",
       "      <th>2</th>\n",
       "      <td>Gender</td>\n",
       "      <td>0</td>\n",
       "    </tr>\n",
       "    <tr>\n",
       "      <th>3</th>\n",
       "      <td>ScheduledDay</td>\n",
       "      <td>0</td>\n",
       "    </tr>\n",
       "    <tr>\n",
       "      <th>4</th>\n",
       "      <td>AppointmentDay</td>\n",
       "      <td>0</td>\n",
       "    </tr>\n",
       "    <tr>\n",
       "      <th>5</th>\n",
       "      <td>Age</td>\n",
       "      <td>0</td>\n",
       "    </tr>\n",
       "    <tr>\n",
       "      <th>6</th>\n",
       "      <td>Neighbourhood</td>\n",
       "      <td>0</td>\n",
       "    </tr>\n",
       "    <tr>\n",
       "      <th>7</th>\n",
       "      <td>Scholarship</td>\n",
       "      <td>0</td>\n",
       "    </tr>\n",
       "    <tr>\n",
       "      <th>8</th>\n",
       "      <td>Hipertension</td>\n",
       "      <td>0</td>\n",
       "    </tr>\n",
       "    <tr>\n",
       "      <th>9</th>\n",
       "      <td>Diabetes</td>\n",
       "      <td>0</td>\n",
       "    </tr>\n",
       "    <tr>\n",
       "      <th>10</th>\n",
       "      <td>Alcoholism</td>\n",
       "      <td>0</td>\n",
       "    </tr>\n",
       "    <tr>\n",
       "      <th>11</th>\n",
       "      <td>Handcap</td>\n",
       "      <td>0</td>\n",
       "    </tr>\n",
       "    <tr>\n",
       "      <th>12</th>\n",
       "      <td>SMS_received</td>\n",
       "      <td>0</td>\n",
       "    </tr>\n",
       "    <tr>\n",
       "      <th>13</th>\n",
       "      <td>No-show</td>\n",
       "      <td>0</td>\n",
       "    </tr>\n",
       "  </tbody>\n",
       "</table>\n",
       "</div>"
      ],
      "text/plain": [
       "       column_name  missing_values_count\n",
       "0        PatientId                     0\n",
       "1    AppointmentID                     0\n",
       "2           Gender                     0\n",
       "3     ScheduledDay                     0\n",
       "4   AppointmentDay                     0\n",
       "5              Age                     0\n",
       "6    Neighbourhood                     0\n",
       "7      Scholarship                     0\n",
       "8     Hipertension                     0\n",
       "9         Diabetes                     0\n",
       "10      Alcoholism                     0\n",
       "11         Handcap                     0\n",
       "12    SMS_received                     0\n",
       "13         No-show                     0"
      ]
     },
     "execution_count": 13,
     "metadata": {},
     "output_type": "execute_result"
    }
   ],
   "source": [
    "count_missing_values(noshow_dataset)"
   ]
  },
  {
   "cell_type": "markdown",
   "metadata": {},
   "source": [
    "how to remove or replacae when there is missing values?"
   ]
  },
  {
   "cell_type": "code",
   "execution_count": 14,
   "metadata": {},
   "outputs": [],
   "source": [
    "# df = df.dropna()\n",
    "# df = df.dropna(subset[\"coluna1\", \"coluna2\"])"
   ]
  },
  {
   "cell_type": "code",
   "execution_count": 15,
   "metadata": {},
   "outputs": [],
   "source": [
    "# # replacing na values:\n",
    "# df = df.fillna(0)"
   ]
  },
  {
   "cell_type": "markdown",
   "metadata": {},
   "source": [
    "### 2. Change the data type of columns ScheduledDay and AppointmentDay (as is: string, to: timestamp)\n",
    "\n",
    "We are going to use the `udf` function, which stands for User Defined Function.\n",
    "\n",
    "It allows you to write a function and call it latter by specifying the column you want to apply it.\n",
    "\n",
    "Here we build a udf function to change the data type of values in columns ScheduledDay and AppointmentDay from string type to date type using an anonymous function lambda. It is necessary to specify the date format in the string and transform it with the method `datetime.strptime`. \n",
    "\n",
    "As the default return type for a udf is StringType, we have to change it for the data type needed with `DateType()`.\n",
    "\n"
   ]
  },
  {
   "cell_type": "code",
   "execution_count": 16,
   "metadata": {},
   "outputs": [],
   "source": [
    "transform_str_to_date = udf(lambda time_column: datetime.strptime(time_column,\"%Y-%m-%dT%H:%M:%SZ\"), DateType())"
   ]
  },
  {
   "cell_type": "markdown",
   "metadata": {},
   "source": [
    "<br> \n",
    "\n",
    "Now call the udf function created above and put the results of the fucntion in a new column called ScheduledDayC, created with the method `withColumn`:\n",
    "\n",
    "`withColumn(\"name_of_the_new_column\", udf_function(name_of_the_column_that_will_be_transformed))`\n",
    "\n",
    "<br>"
   ]
  },
  {
   "cell_type": "code",
   "execution_count": 17,
   "metadata": {},
   "outputs": [],
   "source": [
    "noshow_dataset = noshow_dataset.withColumn(\"ScheduledDayC\", transform_str_to_date(\"ScheduledDay\"))"
   ]
  },
  {
   "cell_type": "markdown",
   "metadata": {},
   "source": [
    "Just to check if our function worked, it is possible to select only the columns I want to see with: \n",
    "\n",
    "`df.select([\"coluna1\", \"coluna2\"]).show()`"
   ]
  },
  {
   "cell_type": "code",
   "execution_count": 18,
   "metadata": {},
   "outputs": [
    {
     "name": "stdout",
     "output_type": "stream",
     "text": [
      "+--------------------+-------------+\n",
      "|        ScheduledDay|ScheduledDayC|\n",
      "+--------------------+-------------+\n",
      "|2016-04-28T08:04:48Z|   2016-04-28|\n",
      "|2016-04-29T12:04:30Z|   2016-04-29|\n",
      "|2016-04-19T08:35:26Z|   2016-04-19|\n",
      "|2016-04-27T12:49:26Z|   2016-04-27|\n",
      "|2016-04-29T14:16:40Z|   2016-04-29|\n",
      "|2016-04-29T14:00:37Z|   2016-04-29|\n",
      "+--------------------+-------------+\n",
      "only showing top 6 rows\n",
      "\n"
     ]
    }
   ],
   "source": [
    "noshow_dataset.select([\"ScheduledDay\", \"ScheduledDayC\"]).show(6)"
   ]
  },
  {
   "cell_type": "code",
   "execution_count": 19,
   "metadata": {},
   "outputs": [],
   "source": [
    "noshow_dataset = noshow_dataset.withColumn(\"AppointmentDayC\", transform_str_to_date(\"AppointmentDay\"))"
   ]
  },
  {
   "cell_type": "code",
   "execution_count": 20,
   "metadata": {},
   "outputs": [
    {
     "name": "stdout",
     "output_type": "stream",
     "text": [
      "+--------------------+---------------+\n",
      "|      AppointmentDay|AppointmentDayC|\n",
      "+--------------------+---------------+\n",
      "|2016-04-29T00:00:00Z|     2016-04-29|\n",
      "|2016-04-29T00:00:00Z|     2016-04-29|\n",
      "|2016-04-29T00:00:00Z|     2016-04-29|\n",
      "+--------------------+---------------+\n",
      "only showing top 3 rows\n",
      "\n"
     ]
    }
   ],
   "source": [
    "noshow_dataset.select([\"AppointmentDay\", \"AppointmentDayC\"]).show(3)"
   ]
  },
  {
   "cell_type": "code",
   "execution_count": 21,
   "metadata": {},
   "outputs": [
    {
     "name": "stdout",
     "output_type": "stream",
     "text": [
      "root\n",
      " |-- PatientId: string (nullable = true)\n",
      " |-- AppointmentID: string (nullable = true)\n",
      " |-- Gender: string (nullable = true)\n",
      " |-- ScheduledDay: string (nullable = true)\n",
      " |-- AppointmentDay: string (nullable = true)\n",
      " |-- Age: string (nullable = true)\n",
      " |-- Neighbourhood: string (nullable = true)\n",
      " |-- Scholarship: string (nullable = true)\n",
      " |-- Hipertension: string (nullable = true)\n",
      " |-- Diabetes: string (nullable = true)\n",
      " |-- Alcoholism: string (nullable = true)\n",
      " |-- Handcap: string (nullable = true)\n",
      " |-- SMS_received: string (nullable = true)\n",
      " |-- No-show: string (nullable = true)\n",
      " |-- ScheduledDayC: date (nullable = true)\n",
      " |-- AppointmentDayC: date (nullable = true)\n",
      "\n"
     ]
    }
   ],
   "source": [
    "noshow_dataset.printSchema()"
   ]
  },
  {
   "cell_type": "markdown",
   "metadata": {},
   "source": [
    "### 3. Standardize the names of the neighborhood to lowercase"
   ]
  },
  {
   "cell_type": "code",
   "execution_count": 22,
   "metadata": {},
   "outputs": [],
   "source": [
    "neighbourhood_lowercase = udf(lambda x: x.lower())"
   ]
  },
  {
   "cell_type": "code",
   "execution_count": 23,
   "metadata": {},
   "outputs": [],
   "source": [
    "noshow_dataset = noshow_dataset.withColumn(\"NeighbourhoodLC\", neighbourhood_lowercase(noshow_dataset.Neighbourhood))"
   ]
  },
  {
   "cell_type": "code",
   "execution_count": 24,
   "metadata": {},
   "outputs": [
    {
     "data": {
      "text/plain": [
       "[Row(PatientId='3326985214249', AppointmentID='5632495', Gender='F', ScheduledDay='2016-04-28T08:04:48Z', AppointmentDay='2016-04-29T00:00:00Z', Age='0', Neighbourhood='SANTO ANTÔNIO', Scholarship='0', Hipertension='0', Diabetes='0', Alcoholism='0', Handcap='0', SMS_received='0', No-show='Yes', ScheduledDayC=datetime.date(2016, 4, 28), AppointmentDayC=datetime.date(2016, 4, 29), NeighbourhoodLC='santo antônio'),\n",
       " Row(PatientId='4755762696573', AppointmentID='5641034', Gender='F', ScheduledDay='2016-04-29T12:04:30Z', AppointmentDay='2016-04-29T00:00:00Z', Age='36', Neighbourhood='MARIA ORTIZ', Scholarship='0', Hipertension='0', Diabetes='0', Alcoholism='0', Handcap='0', SMS_received='0', No-show='No', ScheduledDayC=datetime.date(2016, 4, 29), AppointmentDayC=datetime.date(2016, 4, 29), NeighbourhoodLC='maria ortiz')]"
      ]
     },
     "execution_count": 24,
     "metadata": {},
     "output_type": "execute_result"
    }
   ],
   "source": [
    "noshow_dataset.take(2)"
   ]
  },
  {
   "cell_type": "markdown",
   "metadata": {},
   "source": [
    "### 4. Rename the columns No-Show and SMS_received to NoShow and SMSReceived\n",
    "\n",
    "To rename a column we can use `withColumnRenamed()`"
   ]
  },
  {
   "cell_type": "code",
   "execution_count": 25,
   "metadata": {},
   "outputs": [],
   "source": [
    "noshow_dataset = noshow_dataset.withColumnRenamed(\"No-Show\", \"NoShow\") \\\n",
    "                                .withColumnRenamed(\"SMS_received\", \"SMSReceived\")"
   ]
  },
  {
   "cell_type": "code",
   "execution_count": 26,
   "metadata": {},
   "outputs": [
    {
     "name": "stdout",
     "output_type": "stream",
     "text": [
      "+-------------+-------------+------+--------------------+--------------------+---+-------------+-----------+------------+--------+----------+-------+-----------+------+-------------+---------------+---------------+\n",
      "|    PatientId|AppointmentID|Gender|        ScheduledDay|      AppointmentDay|Age|Neighbourhood|Scholarship|Hipertension|Diabetes|Alcoholism|Handcap|SMSReceived|NoShow|ScheduledDayC|AppointmentDayC|NeighbourhoodLC|\n",
      "+-------------+-------------+------+--------------------+--------------------+---+-------------+-----------+------------+--------+----------+-------+-----------+------+-------------+---------------+---------------+\n",
      "|3326985214249|      5632495|     F|2016-04-28T08:04:48Z|2016-04-29T00:00:00Z|  0|SANTO ANTÔNIO|          0|           0|       0|         0|      0|          0|   Yes|   2016-04-28|     2016-04-29|  santo antônio|\n",
      "|4755762696573|      5641034|     F|2016-04-29T12:04:30Z|2016-04-29T00:00:00Z| 36|  MARIA ORTIZ|          0|           0|       0|         0|      0|          0|    No|   2016-04-29|     2016-04-29|    maria ortiz|\n",
      "+-------------+-------------+------+--------------------+--------------------+---+-------------+-----------+------------+--------+----------+-------+-----------+------+-------------+---------------+---------------+\n",
      "only showing top 2 rows\n",
      "\n"
     ]
    }
   ],
   "source": [
    "noshow_dataset.show(2)"
   ]
  },
  {
   "cell_type": "markdown",
   "metadata": {},
   "source": [
    "### 5. For numeric variables check values with an exploratory data analysis"
   ]
  },
  {
   "cell_type": "markdown",
   "metadata": {},
   "source": [
    "Use `withColumn` and `cast` to change data type:"
   ]
  },
  {
   "cell_type": "code",
   "execution_count": 27,
   "metadata": {},
   "outputs": [],
   "source": [
    "noshow_dataset = noshow_dataset.withColumn(\"Age\", col(\"Age\").cast(IntegerType()))"
   ]
  },
  {
   "cell_type": "code",
   "execution_count": 28,
   "metadata": {},
   "outputs": [
    {
     "name": "stdout",
     "output_type": "stream",
     "text": [
      "root\n",
      " |-- PatientId: string (nullable = true)\n",
      " |-- AppointmentID: string (nullable = true)\n",
      " |-- Gender: string (nullable = true)\n",
      " |-- ScheduledDay: string (nullable = true)\n",
      " |-- AppointmentDay: string (nullable = true)\n",
      " |-- Age: integer (nullable = true)\n",
      " |-- Neighbourhood: string (nullable = true)\n",
      " |-- Scholarship: string (nullable = true)\n",
      " |-- Hipertension: string (nullable = true)\n",
      " |-- Diabetes: string (nullable = true)\n",
      " |-- Alcoholism: string (nullable = true)\n",
      " |-- Handcap: string (nullable = true)\n",
      " |-- SMSReceived: string (nullable = true)\n",
      " |-- NoShow: string (nullable = true)\n",
      " |-- ScheduledDayC: date (nullable = true)\n",
      " |-- AppointmentDayC: date (nullable = true)\n",
      " |-- NeighbourhoodLC: string (nullable = true)\n",
      "\n"
     ]
    }
   ],
   "source": [
    "noshow_dataset.printSchema()"
   ]
  },
  {
   "cell_type": "markdown",
   "metadata": {},
   "source": [
    "Use `describe()` similar to Pandas to get descriptive statistics:"
   ]
  },
  {
   "cell_type": "code",
   "execution_count": 29,
   "metadata": {},
   "outputs": [
    {
     "name": "stdout",
     "output_type": "stream",
     "text": [
      "+-------+------------------+\n",
      "|summary|               Age|\n",
      "+-------+------------------+\n",
      "|  count|            110527|\n",
      "|   mean| 37.08887421173107|\n",
      "| stddev|23.110204963682634|\n",
      "|    min|                -1|\n",
      "|    max|               115|\n",
      "+-------+------------------+\n",
      "\n"
     ]
    }
   ],
   "source": [
    "noshow_dataset.describe(\"Age\").show()"
   ]
  },
  {
   "cell_type": "markdown",
   "metadata": {},
   "source": [
    "We can see there is negative values for age. We are assuming age is represented in years. \n",
    "\n",
    "To see these records:"
   ]
  },
  {
   "cell_type": "code",
   "execution_count": 30,
   "metadata": {},
   "outputs": [
    {
     "data": {
      "text/plain": [
       "[Row(PatientId='465943158731293', AppointmentId='5775010', Age=-1)]"
      ]
     },
     "execution_count": 30,
     "metadata": {},
     "output_type": "execute_result"
    }
   ],
   "source": [
    "noshow_dataset.select([\"PatientId\", \"AppointmentId\", \"Age\"]).where(noshow_dataset.Age == -1).collect()"
   ]
  },
  {
   "cell_type": "markdown",
   "metadata": {},
   "source": [
    "We can observe that there is only one record that assumes a negative age, which is probably incorrect. \n",
    "\n",
    "To remove it we can use filter:"
   ]
  },
  {
   "cell_type": "code",
   "execution_count": 31,
   "metadata": {},
   "outputs": [],
   "source": [
    "noshow_dataset = noshow_dataset.filter(noshow_dataset.Age >= 0)"
   ]
  },
  {
   "cell_type": "code",
   "execution_count": 32,
   "metadata": {},
   "outputs": [
    {
     "name": "stdout",
     "output_type": "stream",
     "text": [
      "+-------+------------------+\n",
      "|summary|               Age|\n",
      "+-------+------------------+\n",
      "|  count|            110526|\n",
      "|   mean|37.089218826339504|\n",
      "| stddev|23.110025518540056|\n",
      "|    min|                 0|\n",
      "|    max|               115|\n",
      "+-------+------------------+\n",
      "\n"
     ]
    }
   ],
   "source": [
    "noshow_dataset.describe(\"Age\").show()"
   ]
  },
  {
   "cell_type": "markdown",
   "metadata": {},
   "source": [
    "# Exploratory Data Analysis\n",
    "\n",
    "Now that we cleaned and wrangled our dataset, we are good to go to perform some exploratory data analysis.\n",
    "\n",
    "- Frequency distribution of show and no-show.\n",
    "- No show according to the age.\n",
    "- Which neighbourhoods have higher no-show occurence?\n",
    "- No shows by month"
   ]
  },
  {
   "cell_type": "markdown",
   "metadata": {},
   "source": [
    "### Frequency distribution of show and no-show"
   ]
  },
  {
   "cell_type": "code",
   "execution_count": 33,
   "metadata": {},
   "outputs": [
    {
     "name": "stdout",
     "output_type": "stream",
     "text": [
      "+------+-----+\n",
      "|NoShow|count|\n",
      "+------+-----+\n",
      "|    No|88207|\n",
      "|   Yes|22319|\n",
      "+------+-----+\n",
      "\n"
     ]
    }
   ],
   "source": [
    "# how many songs users are listening to in a particular hour:\n",
    "# 3. contar o NextSong in the page and group by the hour:\n",
    "\n",
    "noshow_frequency = noshow_dataset.groupby(noshow_dataset.NoShow).count()\n",
    "noshow_frequency.show()"
   ]
  },
  {
   "cell_type": "markdown",
   "metadata": {},
   "source": [
    "### No show according to the age"
   ]
  },
  {
   "cell_type": "markdown",
   "metadata": {},
   "source": [
    "Below we are agrupating the data by noshow classes: Yes and No, using `groupby` and an aggregation funtion `agg(F.avg())` to calculate the mean age, and `alias` to define column name:"
   ]
  },
  {
   "cell_type": "code",
   "execution_count": 34,
   "metadata": {},
   "outputs": [],
   "source": [
    "noshow_age = noshow_dataset.groupby(noshow_dataset.NoShow).agg(F.avg(noshow_dataset.Age).alias(\"MeanAge\"))"
   ]
  },
  {
   "cell_type": "code",
   "execution_count": 35,
   "metadata": {},
   "outputs": [
    {
     "name": "stdout",
     "output_type": "stream",
     "text": [
      "+------+------------------+\n",
      "|NoShow|           MeanAge|\n",
      "+------+------------------+\n",
      "|    No|37.790504154999034|\n",
      "|   Yes| 34.31766656212196|\n",
      "+------+------------------+\n",
      "\n"
     ]
    }
   ],
   "source": [
    "noshow_age.show()"
   ]
  },
  {
   "cell_type": "markdown",
   "metadata": {},
   "source": [
    "### Which neighbourhoods have higher no-show occurence?\n"
   ]
  },
  {
   "cell_type": "code",
   "execution_count": 36,
   "metadata": {},
   "outputs": [],
   "source": [
    "noshow_neighbourhood = noshow_dataset.filter(noshow_dataset.NoShow == \"Yes\") \\\n",
    "                                                        .groupby(noshow_dataset.NeighbourhoodLC) \\\n",
    "                                                        .count() \\\n",
    "                                                        .sort(desc(\"count\"))"
   ]
  },
  {
   "cell_type": "code",
   "execution_count": 37,
   "metadata": {},
   "outputs": [
    {
     "name": "stdout",
     "output_type": "stream",
     "text": [
      "+-----------------+-----+\n",
      "|  NeighbourhoodLC|count|\n",
      "+-----------------+-----+\n",
      "|   jardim camburi| 1465|\n",
      "|      maria ortiz| 1219|\n",
      "|          itararé|  923|\n",
      "|      resistência|  906|\n",
      "|           centro|  703|\n",
      "|jesus de nazareth|  696|\n",
      "|  jardim da penha|  631|\n",
      "|        caratoíra|  591|\n",
      "|       tabuazeiro|  573|\n",
      "|           bonfim|  550|\n",
      "| ilha do príncipe|  532|\n",
      "|       andorinhas|  521|\n",
      "|        são pedro|  515|\n",
      "|      santo andré|  508|\n",
      "|     santa martha|  496|\n",
      "|    santo antônio|  484|\n",
      "|            romão|  474|\n",
      "|         gurigica|  456|\n",
      "|           jabour|  451|\n",
      "|         da penha|  429|\n",
      "+-----------------+-----+\n",
      "only showing top 20 rows\n",
      "\n"
     ]
    }
   ],
   "source": [
    "noshow_neighbourhood.show()"
   ]
  },
  {
   "cell_type": "markdown",
   "metadata": {},
   "source": [
    "### No shows by month"
   ]
  },
  {
   "cell_type": "code",
   "execution_count": 38,
   "metadata": {},
   "outputs": [],
   "source": [
    "get_month = udf(lambda time_column: time_column.month, IntegerType())"
   ]
  },
  {
   "cell_type": "code",
   "execution_count": 39,
   "metadata": {},
   "outputs": [],
   "source": [
    "noshow_dataset = noshow_dataset.withColumn(\"MonthAppointment\", get_month(noshow_dataset.AppointmentDayC))"
   ]
  },
  {
   "cell_type": "code",
   "execution_count": 40,
   "metadata": {},
   "outputs": [
    {
     "data": {
      "text/plain": [
       "[Row(PatientId='3326985214249', AppointmentID='5632495', Gender='F', ScheduledDay='2016-04-28T08:04:48Z', AppointmentDay='2016-04-29T00:00:00Z', Age=0, Neighbourhood='SANTO ANTÔNIO', Scholarship='0', Hipertension='0', Diabetes='0', Alcoholism='0', Handcap='0', SMSReceived='0', NoShow='Yes', ScheduledDayC=datetime.date(2016, 4, 28), AppointmentDayC=datetime.date(2016, 4, 29), NeighbourhoodLC='santo antônio', MonthAppointment=4),\n",
       " Row(PatientId='4755762696573', AppointmentID='5641034', Gender='F', ScheduledDay='2016-04-29T12:04:30Z', AppointmentDay='2016-04-29T00:00:00Z', Age=36, Neighbourhood='MARIA ORTIZ', Scholarship='0', Hipertension='0', Diabetes='0', Alcoholism='0', Handcap='0', SMSReceived='0', NoShow='No', ScheduledDayC=datetime.date(2016, 4, 29), AppointmentDayC=datetime.date(2016, 4, 29), NeighbourhoodLC='maria ortiz', MonthAppointment=4)]"
      ]
     },
     "execution_count": 40,
     "metadata": {},
     "output_type": "execute_result"
    }
   ],
   "source": [
    "noshow_dataset.take(2)"
   ]
  },
  {
   "cell_type": "code",
   "execution_count": 41,
   "metadata": {},
   "outputs": [],
   "source": [
    "noshow_by_month = noshow_dataset.filter(noshow_dataset.NoShow == \"Yes\") \\\n",
    "                                                        .groupby(noshow_dataset.MonthAppointment) \\\n",
    "                                                        .count()"
   ]
  },
  {
   "cell_type": "code",
   "execution_count": 42,
   "metadata": {},
   "outputs": [
    {
     "name": "stdout",
     "output_type": "stream",
     "text": [
      "+----------------+-----+\n",
      "|MonthAppointment|count|\n",
      "+----------------+-----+\n",
      "|               6| 4882|\n",
      "|               5|16804|\n",
      "|               4|  633|\n",
      "+----------------+-----+\n",
      "\n"
     ]
    }
   ],
   "source": [
    "noshow_by_month.show()"
   ]
  }
 ],
 "metadata": {
  "kernelspec": {
   "display_name": "Python 3",
   "language": "python",
   "name": "python3"
  },
  "language_info": {
   "codemirror_mode": {
    "name": "ipython",
    "version": 3
   },
   "file_extension": ".py",
   "mimetype": "text/x-python",
   "name": "python",
   "nbconvert_exporter": "python",
   "pygments_lexer": "ipython3",
   "version": "3.7.4"
  }
 },
 "nbformat": 4,
 "nbformat_minor": 2
}
